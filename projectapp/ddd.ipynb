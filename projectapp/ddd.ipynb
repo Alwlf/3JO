{
 "cells": [
  {
   "cell_type": "code",
   "execution_count": 1,
   "metadata": {},
   "outputs": [],
   "source": [
    "import pandas as pd"
   ]
  },
  {
   "cell_type": "code",
   "execution_count": 5,
   "metadata": {},
   "outputs": [],
   "source": [
    "df = pd.read_csv('C:/3JO/질병데이터.csv',encoding='cp949')"
   ]
  },
  {
   "cell_type": "code",
   "execution_count": 6,
   "metadata": {},
   "outputs": [],
   "source": [
    "import sqlite3"
   ]
  },
  {
   "cell_type": "code",
   "execution_count": 9,
   "metadata": {},
   "outputs": [],
   "source": [
    "conn=sqlite3.connect('C:/3JO/db.sqlite3')"
   ]
  },
  {
   "cell_type": "code",
   "execution_count": 10,
   "metadata": {},
   "outputs": [],
   "source": [
    "cursor = conn.cursor()"
   ]
  },
  {
   "cell_type": "code",
   "execution_count": null,
   "metadata": {},
   "outputs": [],
   "source": [
    "cursor.execute"
   ]
  },
  {
   "cell_type": "code",
   "execution_count": 14,
   "metadata": {},
   "outputs": [],
   "source": [
    "for i in df.values:\n",
    "    sql = \"\"\"\n",
    "            Insert Into disease(\n",
    "                di_name,di_content,di_cause, di_warning\n",
    "            ) Values (\n",
    "                '{}', '{}', '{}', '{}'\n",
    "            )\n",
    "    \"\"\".format(*i)\n",
    "    cursor.execute(sql)\n",
    "conn.commit()\n",
    "cursor.close()"
   ]
  },
  {
   "cell_type": "code",
   "execution_count": 18,
   "metadata": {},
   "outputs": [
    {
     "name": "stdout",
     "output_type": "stream",
     "text": [
      "[('구진플라크', '피부에 붉은색이나 갈색의 구진이나 플라크가 나타납니다.', '알레르기, 피부염, 세균 감염, 곰팡이 감염 등', '항히스타민제, 스테로이드제, 항생제, 항진균제 등')]\n"
     ]
    }
   ],
   "source": [
    "cursor = conn.cursor()\n",
    "sql = \"\"\"\n",
    "    Select * from disease\n",
    "    Where di_name = '구진플라크';\n",
    "\"\"\"\n",
    "c=cursor.execute(sql)\n",
    "\n",
    "print(c.fetchall())"
   ]
  }
 ],
 "metadata": {
  "kernelspec": {
   "display_name": "gj_django",
   "language": "python",
   "name": "python3"
  },
  "language_info": {
   "codemirror_mode": {
    "name": "ipython",
    "version": 3
   },
   "file_extension": ".py",
   "mimetype": "text/x-python",
   "name": "python",
   "nbconvert_exporter": "python",
   "pygments_lexer": "ipython3",
   "version": "3.9.16"
  },
  "orig_nbformat": 4
 },
 "nbformat": 4,
 "nbformat_minor": 2
}
